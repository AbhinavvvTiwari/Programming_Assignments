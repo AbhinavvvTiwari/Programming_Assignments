{
 "cells": [
  {
   "cell_type": "code",
   "execution_count": 1,
   "id": "6e24aff0",
   "metadata": {},
   "outputs": [
    {
     "name": "stdout",
     "output_type": "stream",
     "text": [
      "Enter the value of km 1\n",
      "value in miles is =  0.621371\n"
     ]
    }
   ],
   "source": [
    "a=int(input(\"Enter the value of km \"))\n",
    "\n",
    "b= a*0.621371\n",
    "\n",
    "print(\"value in miles is = \" , b)\n"
   ]
  },
  {
   "cell_type": "code",
   "execution_count": 2,
   "id": "4b2dc5f2",
   "metadata": {},
   "outputs": [
    {
     "name": "stdout",
     "output_type": "stream",
     "text": [
      "Enter the temperature in celcius 0\n",
      "Temperature in Fahrenite is = 32.0\n"
     ]
    }
   ],
   "source": [
    "a=int(input(\"Enter the temperature in celcius \"))\n",
    "\n",
    "b= (a*1.8)+32\n",
    "\n",
    "print(\"Temperature in Fahrenite is =\" , b)\n"
   ]
  },
  {
   "cell_type": "code",
   "execution_count": 16,
   "id": "90b303b4",
   "metadata": {},
   "outputs": [
    {
     "name": "stdout",
     "output_type": "stream",
     "text": [
      "Is it a leap year enter yes or nono\n",
      "Enter the month for which you want to see the dates February\n",
      "[1, 2, 3, 4, 5, 6, 7, 8, 9, 10, 11, 12, 13, 14, 15, 16, 17, 18, 19, 20, 21, 22, 23, 24, 25, 26, 27, 28]\n"
     ]
    }
   ],
   "source": [
    "b=input(\"Is it a leap year enter yes or no\")\n",
    "if b == \"yes\" or b == \"no\":\n",
    "    a=input(\"Enter the month for which you want to see the dates \")\n",
    "    if a == \"January\" or a == \"March\" or a == \"May\" or a == \"July\" or a == \"August\" or a == \"October\" or a == \"December\":\n",
    "        print(list(range(1,32)))\n",
    "    elif b== \"no\" and a == \"February\":\n",
    "        print(list(range(1,29)))    \n",
    "    elif b == \"yes\" and a == \"February\":\n",
    "        print(list(range(1,30)))    \n",
    "    else:\n",
    "        print(list(range(1,31)))\n",
    "else:\n",
    "    print(\"not a valid entry\")"
   ]
  },
  {
   "cell_type": "code",
   "execution_count": 26,
   "id": "d15bd6ac",
   "metadata": {},
   "outputs": [
    {
     "name": "stdout",
     "output_type": "stream",
     "text": [
      "Enter the value of first constanta1\n",
      "Enter the value of second constant b2\n",
      "Enter the value of third constant c1\n",
      "solution of your quad equation is -1.0\n"
     ]
    }
   ],
   "source": [
    "import math\n",
    "\n",
    "a=int(input(\"Enter the value of first constanta\"))\n",
    "b=int(input(\"Enter the value of second constant b\"))\n",
    "c=int(input(\"Enter the value of third constant c\"))\n",
    "\n",
    "d = (b**2) - (4*a*c)\n",
    "\n",
    "x1 = (-b +- math.sqrt(d))/2*a\n",
    "print(\"solution of your quad equation is\" , x1)"
   ]
  },
  {
   "cell_type": "code",
   "execution_count": 27,
   "id": "93c3f139",
   "metadata": {},
   "outputs": [
    {
     "name": "stdout",
     "output_type": "stream",
     "text": [
      "Enter value of a 1\n",
      " Enter value of b 2\n",
      "you entered these values\n",
      "1 2\n",
      "swapped values are\n",
      "2 1\n"
     ]
    }
   ],
   "source": [
    "a=int(input(\"Enter value of a \"))\n",
    "b=int(input(\" Enter value of b \"))\n",
    "print(\"you entered these values\")\n",
    "print(a,b)\n",
    "print(\"swapped values are\")\n",
    "print(b,a)"
   ]
  },
  {
   "cell_type": "code",
   "execution_count": null,
   "id": "1750c70f",
   "metadata": {},
   "outputs": [],
   "source": []
  }
 ],
 "metadata": {
  "kernelspec": {
   "display_name": "Python 3 (ipykernel)",
   "language": "python",
   "name": "python3"
  },
  "language_info": {
   "codemirror_mode": {
    "name": "ipython",
    "version": 3
   },
   "file_extension": ".py",
   "mimetype": "text/x-python",
   "name": "python",
   "nbconvert_exporter": "python",
   "pygments_lexer": "ipython3",
   "version": "3.9.7"
  }
 },
 "nbformat": 4,
 "nbformat_minor": 5
}
