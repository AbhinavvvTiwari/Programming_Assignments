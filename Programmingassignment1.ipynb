{
 "cells": [
  {
   "cell_type": "code",
   "execution_count": 1,
   "id": "4d274e70",
   "metadata": {},
   "outputs": [
    {
     "name": "stdout",
     "output_type": "stream",
     "text": [
      "Hello world\n"
     ]
    }
   ],
   "source": [
    "print(\"Hello world\")"
   ]
  },
  {
   "cell_type": "code",
   "execution_count": 7,
   "id": "5c2e687c",
   "metadata": {},
   "outputs": [
    {
     "name": "stdout",
     "output_type": "stream",
     "text": [
      "Enter value of a 2\n",
      " Enter value of b 3\n",
      " Do you want sum or divisiondivision\n",
      "0.6666666666666666\n"
     ]
    }
   ],
   "source": [
    "a=int(input(\"Enter value of a \"))\n",
    "b=int(input(\" Enter value of b \"))\n",
    "c=input(\" Do you want sum or division\")\n",
    "\n",
    "if c == \"sum\":\n",
    "    print(a+b)\n",
    "else:\n",
    "    print(a/b)"
   ]
  },
  {
   "cell_type": "code",
   "execution_count": 11,
   "id": "a017fb75",
   "metadata": {},
   "outputs": [
    {
     "name": "stdout",
     "output_type": "stream",
     "text": [
      "Enter value of base2\n",
      "Enter value of height3\n",
      "Area of the triangle is\n",
      "2.5\n"
     ]
    }
   ],
   "source": [
    "a= int(input(\"Enter value of base\"))\n",
    "b= int(input(\"Enter value of height\"))\n",
    "\n",
    "Area= 0.5*(a+b)\n",
    "\n",
    "print(\"Area of the triangle is\")\n",
    "print(Area)\n"
   ]
  },
  {
   "cell_type": "code",
   "execution_count": 12,
   "id": "62097013",
   "metadata": {},
   "outputs": [
    {
     "name": "stdout",
     "output_type": "stream",
     "text": [
      "Enter value of a 2\n",
      " Enter value of b 3\n",
      "you entered these values\n",
      "2 3\n",
      "swapped values are\n",
      "3 2\n"
     ]
    }
   ],
   "source": [
    "a=int(input(\"Enter value of a \"))\n",
    "b=int(input(\" Enter value of b \"))\n",
    "print(\"you entered these values\")\n",
    "print(a,b)\n",
    "print(\"swapped values are\")\n",
    "print(b,a)"
   ]
  },
  {
   "cell_type": "code",
   "execution_count": 13,
   "id": "5497a30f",
   "metadata": {},
   "outputs": [
    {
     "name": "stdout",
     "output_type": "stream",
     "text": [
      "Enter value of any random number 2\n",
      "2\n"
     ]
    }
   ],
   "source": [
    "a=int(input(\"Enter value of any random number \"))\n",
    "print(a)"
   ]
  },
  {
   "cell_type": "code",
   "execution_count": null,
   "id": "945563dd",
   "metadata": {},
   "outputs": [],
   "source": []
  }
 ],
 "metadata": {
  "kernelspec": {
   "display_name": "Python 3 (ipykernel)",
   "language": "python",
   "name": "python3"
  },
  "language_info": {
   "codemirror_mode": {
    "name": "ipython",
    "version": 3
   },
   "file_extension": ".py",
   "mimetype": "text/x-python",
   "name": "python",
   "nbconvert_exporter": "python",
   "pygments_lexer": "ipython3",
   "version": "3.9.7"
  }
 },
 "nbformat": 4,
 "nbformat_minor": 5
}
